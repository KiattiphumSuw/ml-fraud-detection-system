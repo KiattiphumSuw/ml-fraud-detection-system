{
 "cells": [
  {
   "cell_type": "markdown",
   "id": "8e38dbd5",
   "metadata": {},
   "source": [
    "# Load and Preview Data"
   ]
  },
  {
   "cell_type": "code",
   "execution_count": 3,
   "id": "d7a98be7",
   "metadata": {},
   "outputs": [],
   "source": [
    "import pandas as pd\n",
    "import numpy as np\n",
    "import matplotlib.pyplot as plt\n",
    "import seaborn as sns"
   ]
  },
  {
   "cell_type": "code",
   "execution_count": 4,
   "id": "3ddc3c1b",
   "metadata": {},
   "outputs": [
    {
     "data": {
      "application/vnd.microsoft.datawrangler.viewer.v0+json": {
       "columns": [
        {
         "name": "index",
         "rawType": "int64",
         "type": "integer"
        },
        {
         "name": "time_ind",
         "rawType": "int64",
         "type": "integer"
        },
        {
         "name": "transac_type",
         "rawType": "object",
         "type": "string"
        },
        {
         "name": "amount",
         "rawType": "float64",
         "type": "float"
        },
        {
         "name": "src_acc",
         "rawType": "object",
         "type": "string"
        },
        {
         "name": "src_bal",
         "rawType": "float64",
         "type": "float"
        },
        {
         "name": "src_new_bal",
         "rawType": "float64",
         "type": "float"
        },
        {
         "name": "dst_acc",
         "rawType": "object",
         "type": "string"
        },
        {
         "name": "dst_bal",
         "rawType": "float64",
         "type": "float"
        },
        {
         "name": "dst_new_bal",
         "rawType": "float64",
         "type": "float"
        },
        {
         "name": "is_fraud",
         "rawType": "int64",
         "type": "integer"
        },
        {
         "name": "is_flagged_fraud",
         "rawType": "int64",
         "type": "integer"
        }
       ],
       "ref": "d1dd65dc-71d5-4890-9303-83b5af91b307",
       "rows": [
        [
         "0",
         "1",
         "PAYMENT",
         "9839.64",
         "acc910286",
         "170136.0",
         "160296.36",
         "acc298089",
         "0.0",
         "0.0",
         "0",
         "0"
        ],
        [
         "1",
         "1",
         "PAYMENT",
         "1864.28",
         "acc6597009",
         "21249.0",
         "19384.72",
         "acc8726693",
         "0.0",
         "0.0",
         "0",
         "0"
        ],
        [
         "2",
         "1",
         "TRANSFER",
         "181.0",
         "acc1796908",
         "181.0",
         "0.0",
         "acc4938640",
         "0.0",
         "0.0",
         "1",
         "0"
        ],
        [
         "3",
         "1",
         "CASH_OUT",
         "181.0",
         "acc4182296",
         "181.0",
         "0.0",
         "acc1221153",
         "21182.0",
         "0.0",
         "1",
         "0"
        ],
        [
         "4",
         "1",
         "PAYMENT",
         "11668.14",
         "acc7841596",
         "41554.0",
         "29885.86",
         "acc5599142",
         "0.0",
         "0.0",
         "0",
         "0"
        ]
       ],
       "shape": {
        "columns": 11,
        "rows": 5
       }
      },
      "text/html": [
       "<div>\n",
       "<style scoped>\n",
       "    .dataframe tbody tr th:only-of-type {\n",
       "        vertical-align: middle;\n",
       "    }\n",
       "\n",
       "    .dataframe tbody tr th {\n",
       "        vertical-align: top;\n",
       "    }\n",
       "\n",
       "    .dataframe thead th {\n",
       "        text-align: right;\n",
       "    }\n",
       "</style>\n",
       "<table border=\"1\" class=\"dataframe\">\n",
       "  <thead>\n",
       "    <tr style=\"text-align: right;\">\n",
       "      <th></th>\n",
       "      <th>time_ind</th>\n",
       "      <th>transac_type</th>\n",
       "      <th>amount</th>\n",
       "      <th>src_acc</th>\n",
       "      <th>src_bal</th>\n",
       "      <th>src_new_bal</th>\n",
       "      <th>dst_acc</th>\n",
       "      <th>dst_bal</th>\n",
       "      <th>dst_new_bal</th>\n",
       "      <th>is_fraud</th>\n",
       "      <th>is_flagged_fraud</th>\n",
       "    </tr>\n",
       "  </thead>\n",
       "  <tbody>\n",
       "    <tr>\n",
       "      <th>0</th>\n",
       "      <td>1</td>\n",
       "      <td>PAYMENT</td>\n",
       "      <td>9839.64</td>\n",
       "      <td>acc910286</td>\n",
       "      <td>170136.0</td>\n",
       "      <td>160296.36</td>\n",
       "      <td>acc298089</td>\n",
       "      <td>0.0</td>\n",
       "      <td>0.0</td>\n",
       "      <td>0</td>\n",
       "      <td>0</td>\n",
       "    </tr>\n",
       "    <tr>\n",
       "      <th>1</th>\n",
       "      <td>1</td>\n",
       "      <td>PAYMENT</td>\n",
       "      <td>1864.28</td>\n",
       "      <td>acc6597009</td>\n",
       "      <td>21249.0</td>\n",
       "      <td>19384.72</td>\n",
       "      <td>acc8726693</td>\n",
       "      <td>0.0</td>\n",
       "      <td>0.0</td>\n",
       "      <td>0</td>\n",
       "      <td>0</td>\n",
       "    </tr>\n",
       "    <tr>\n",
       "      <th>2</th>\n",
       "      <td>1</td>\n",
       "      <td>TRANSFER</td>\n",
       "      <td>181.00</td>\n",
       "      <td>acc1796908</td>\n",
       "      <td>181.0</td>\n",
       "      <td>0.00</td>\n",
       "      <td>acc4938640</td>\n",
       "      <td>0.0</td>\n",
       "      <td>0.0</td>\n",
       "      <td>1</td>\n",
       "      <td>0</td>\n",
       "    </tr>\n",
       "    <tr>\n",
       "      <th>3</th>\n",
       "      <td>1</td>\n",
       "      <td>CASH_OUT</td>\n",
       "      <td>181.00</td>\n",
       "      <td>acc4182296</td>\n",
       "      <td>181.0</td>\n",
       "      <td>0.00</td>\n",
       "      <td>acc1221153</td>\n",
       "      <td>21182.0</td>\n",
       "      <td>0.0</td>\n",
       "      <td>1</td>\n",
       "      <td>0</td>\n",
       "    </tr>\n",
       "    <tr>\n",
       "      <th>4</th>\n",
       "      <td>1</td>\n",
       "      <td>PAYMENT</td>\n",
       "      <td>11668.14</td>\n",
       "      <td>acc7841596</td>\n",
       "      <td>41554.0</td>\n",
       "      <td>29885.86</td>\n",
       "      <td>acc5599142</td>\n",
       "      <td>0.0</td>\n",
       "      <td>0.0</td>\n",
       "      <td>0</td>\n",
       "      <td>0</td>\n",
       "    </tr>\n",
       "  </tbody>\n",
       "</table>\n",
       "</div>"
      ],
      "text/plain": [
       "   time_ind transac_type    amount     src_acc   src_bal  src_new_bal  \\\n",
       "0         1      PAYMENT   9839.64   acc910286  170136.0    160296.36   \n",
       "1         1      PAYMENT   1864.28  acc6597009   21249.0     19384.72   \n",
       "2         1     TRANSFER    181.00  acc1796908     181.0         0.00   \n",
       "3         1     CASH_OUT    181.00  acc4182296     181.0         0.00   \n",
       "4         1      PAYMENT  11668.14  acc7841596   41554.0     29885.86   \n",
       "\n",
       "      dst_acc  dst_bal  dst_new_bal  is_fraud  is_flagged_fraud  \n",
       "0   acc298089      0.0          0.0         0                 0  \n",
       "1  acc8726693      0.0          0.0         0                 0  \n",
       "2  acc4938640      0.0          0.0         1                 0  \n",
       "3  acc1221153  21182.0          0.0         1                 0  \n",
       "4  acc5599142      0.0          0.0         0                 0  "
      ]
     },
     "execution_count": 4,
     "metadata": {},
     "output_type": "execute_result"
    }
   ],
   "source": [
    "df = pd.read_csv(\"../data/fraud_mock.csv\")\n",
    "df.head()"
   ]
  },
  {
   "cell_type": "markdown",
   "id": "4e1be8d7",
   "metadata": {},
   "source": [
    "# 1. Data Quality Checks"
   ]
  },
  {
   "cell_type": "code",
   "execution_count": 5,
   "id": "e4a71f50",
   "metadata": {},
   "outputs": [
    {
     "name": "stdout",
     "output_type": "stream",
     "text": [
      "Shape of dataset: (6362620, 11)\n",
      "\n",
      "Column data types:\n",
      "time_ind              int64\n",
      "transac_type         object\n",
      "amount              float64\n",
      "src_acc              object\n",
      "src_bal             float64\n",
      "src_new_bal         float64\n",
      "dst_acc              object\n",
      "dst_bal             float64\n",
      "dst_new_bal         float64\n",
      "is_fraud              int64\n",
      "is_flagged_fraud      int64\n",
      "dtype: object\n"
     ]
    }
   ],
   "source": [
    "# Display basic shape and data types\n",
    "print(\"Shape of dataset:\", df.shape)\n",
    "print(\"\\nColumn data types:\")\n",
    "print(df.dtypes)"
   ]
  },
  {
   "cell_type": "code",
   "execution_count": 6,
   "id": "06c4058e",
   "metadata": {},
   "outputs": [
    {
     "name": "stdout",
     "output_type": "stream",
     "text": [
      "\n",
      "Missing values per column:\n",
      "time_ind            0\n",
      "transac_type        0\n",
      "amount              0\n",
      "src_acc             0\n",
      "src_bal             0\n",
      "src_new_bal         0\n",
      "dst_acc             0\n",
      "dst_bal             0\n",
      "dst_new_bal         0\n",
      "is_fraud            0\n",
      "is_flagged_fraud    0\n",
      "dtype: int64\n"
     ]
    }
   ],
   "source": [
    "# Check for missing values\n",
    "print(\"\\nMissing values per column:\")\n",
    "print(df.isnull().sum())"
   ]
  },
  {
   "cell_type": "code",
   "execution_count": 7,
   "id": "29255191",
   "metadata": {},
   "outputs": [
    {
     "name": "stdout",
     "output_type": "stream",
     "text": [
      "\n",
      "Number of duplicate rows: 0\n"
     ]
    }
   ],
   "source": [
    "# Check for duplicate rows\n",
    "duplicate_count = df.duplicated().sum()\n",
    "print(\"\\nNumber of duplicate rows:\", duplicate_count)"
   ]
  },
  {
   "cell_type": "markdown",
   "id": "b5259063",
   "metadata": {},
   "source": [
    "The data looks good — there are no missing values, and no duplicate records are present."
   ]
  },
  {
   "cell_type": "code",
   "execution_count": 8,
   "id": "fa806700",
   "metadata": {},
   "outputs": [
    {
     "name": "stdout",
     "output_type": "stream",
     "text": [
      "\n",
      "Summary statistics:\n",
      "           time_ind        amount       src_bal   src_new_bal       dst_bal  \\\n",
      "count  6.362620e+06  6.362620e+06  6.362620e+06  6.362620e+06  6.362620e+06   \n",
      "mean   2.433972e+02  1.798619e+05  8.338831e+05  8.551137e+05  1.100702e+06   \n",
      "std    1.423320e+02  6.038582e+05  2.888243e+06  2.924049e+06  3.399180e+06   \n",
      "min    1.000000e+00  0.000000e+00  0.000000e+00  0.000000e+00  0.000000e+00   \n",
      "25%    1.560000e+02  1.338957e+04  0.000000e+00  0.000000e+00  0.000000e+00   \n",
      "50%    2.390000e+02  7.487194e+04  1.420800e+04  0.000000e+00  1.327057e+05   \n",
      "75%    3.350000e+02  2.087215e+05  1.073152e+05  1.442584e+05  9.430367e+05   \n",
      "max    7.430000e+02  9.244552e+07  5.958504e+07  4.958504e+07  3.560159e+08   \n",
      "\n",
      "        dst_new_bal      is_fraud  is_flagged_fraud  \n",
      "count  6.362620e+06  6.362620e+06      6.362620e+06  \n",
      "mean   1.224996e+06  1.290820e-03      2.514687e-06  \n",
      "std    3.674129e+06  3.590480e-02      1.585775e-03  \n",
      "min    0.000000e+00  0.000000e+00      0.000000e+00  \n",
      "25%    0.000000e+00  0.000000e+00      0.000000e+00  \n",
      "50%    2.146614e+05  0.000000e+00      0.000000e+00  \n",
      "75%    1.111909e+06  0.000000e+00      0.000000e+00  \n",
      "max    3.561793e+08  1.000000e+00      1.000000e+00  \n"
     ]
    }
   ],
   "source": [
    "# Summary statistics for numerical columns\n",
    "print(\"\\nSummary statistics:\")\n",
    "print(df.describe())"
   ]
  },
  {
   "cell_type": "code",
   "execution_count": 9,
   "id": "138061ca",
   "metadata": {},
   "outputs": [
    {
     "name": "stdout",
     "output_type": "stream",
     "text": [
      "\n",
      "Unique values per column (count and percentage):\n",
      "                  unique_count  unique_percent\n",
      "time_ind                   743            0.01\n",
      "transac_type                 5            0.00\n",
      "amount                 5316900           83.56\n",
      "src_acc                6353307           99.85\n",
      "src_bal                1845844           29.01\n",
      "src_new_bal            2682586           42.16\n",
      "dst_acc                2722362           42.79\n",
      "dst_bal                3614697           56.81\n",
      "dst_new_bal            3555499           55.88\n",
      "is_fraud                     2            0.00\n",
      "is_flagged_fraud             2            0.00\n"
     ]
    }
   ],
   "source": [
    "# Total number of rows\n",
    "total_rows = len(df)\n",
    "\n",
    "# Count and percentage of unique values per column\n",
    "unique_counts = df.nunique()\n",
    "unique_percentages = (unique_counts / total_rows * 100).round(2)\n",
    "\n",
    "# Combine into a DataFrame for clearer output\n",
    "unique_summary = pd.DataFrame({\n",
    "    \"unique_count\": unique_counts,\n",
    "    \"unique_percent\": unique_percentages\n",
    "})\n",
    "\n",
    "print(\"\\nUnique values per column (count and percentage):\")\n",
    "print(unique_summary)\n"
   ]
  },
  {
   "cell_type": "markdown",
   "id": "74daf2c9",
   "metadata": {},
   "source": [
    "This show there is almost 100 percent that source account not the same person and the traget is more like 50 persent"
   ]
  },
  {
   "cell_type": "code",
   "execution_count": 10,
   "id": "9c59510f",
   "metadata": {},
   "outputs": [
    {
     "name": "stdout",
     "output_type": "stream",
     "text": [
      "\n",
      "Fraud vs Non-Fraud distribution:\n",
      "             ratio    count\n",
      "is_fraud                   \n",
      "0         0.998709  6354407\n",
      "1         0.001291     8213\n"
     ]
    }
   ],
   "source": [
    "# Fraud class distribution\n",
    "print(\"\\nFraud vs Non-Fraud distribution:\")\n",
    "print(df['is_fraud'].value_counts(normalize=True).rename(\"ratio\").to_frame().assign(count=df['is_fraud'].value_counts()))"
   ]
  },
  {
   "cell_type": "markdown",
   "id": "fedb8dbd",
   "metadata": {},
   "source": [
    "This is undesirable but expected — fraudulent transactions are a minority class, which results in an imbalanced classification problem."
   ]
  },
  {
   "cell_type": "markdown",
   "id": "77709334",
   "metadata": {},
   "source": [
    "# 2. Pre-Insight : bussiness logic Checklist\n",
    "\n",
    "Before proceeding with exploratory analysis, we first verify the dataset’s integrity by checking for logical consistency and conformance with known business rules.\n",
    "\n",
    "---\n",
    "\n",
    "### 2.1. Validation of Transaction Logic by Type\n",
    "\n",
    "Each transaction type dictates how the sender’s balance (`src_new_bal`) should change in relation to the original balance (`src_bal`) and the transaction `amount`. The expected logic per type is as follows:\n",
    "\n",
    "| `transac_type` | Expected Balance Logic            |\n",
    "|----------------|-----------------------------------|\n",
    "| `CASH-IN`      | `src_new_bal = src_bal + amount`  |\n",
    "| `CASH-OUT`     | `src_new_bal = src_bal - amount`  |\n",
    "| `PAYMENT`      | `src_new_bal = src_bal - amount`  |\n",
    "| `TRANSFER`     | `src_new_bal = src_bal - amount`  |\n",
    "| `DEBIT`        | `src_new_bal = src_bal - amount`  |\n",
    "\n",
    "We implement programmatic checks across all records to identify inconsistencies or data integrity violations."
   ]
  },
  {
   "cell_type": "code",
   "execution_count": 11,
   "id": "929147f3",
   "metadata": {},
   "outputs": [],
   "source": [
    "def check_balance_logic(df):\n",
    "    \"\"\"\n",
    "    Check if src_new_bal is consistent with src_bal and amount for each transac_type.\n",
    "    Returns a DataFrame with violations.\n",
    "    \"\"\"\n",
    "    df = df.copy()  # Avoid modifying original\n",
    "\n",
    "    # Expected new balance based on transaction type\n",
    "    conditions = {\n",
    "        \"CASH-IN\": df[\"src_bal\"] + df[\"amount\"],\n",
    "        \"CASH-OUT\": df[\"src_bal\"] - df[\"amount\"],\n",
    "        \"PAYMENT\": df[\"src_bal\"] - df[\"amount\"],\n",
    "        \"TRANSFER\": df[\"src_bal\"] - df[\"amount\"],\n",
    "        \"DEBIT\": df[\"src_bal\"] - df[\"amount\"],\n",
    "    }\n",
    "\n",
    "    # Container for invalid entries\n",
    "    all_violations = []\n",
    "\n",
    "    for tx_type, expected_balance in conditions.items():\n",
    "        mask = df[\"transac_type\"] == tx_type\n",
    "\n",
    "        # Select only matching rows for both Series\n",
    "        expected = expected_balance[mask]\n",
    "        actual = df.loc[mask, \"src_new_bal\"]\n",
    "\n",
    "        mismatches = df.loc[mask].loc[~np.isclose(actual, expected)]\n",
    "\n",
    "        if not mismatches.empty:\n",
    "            mismatches = mismatches.assign(expected_src_new_bal=expected)\n",
    "            all_violations.append(mismatches)\n",
    "            print(f\"{len(mismatches):,} invalid '{tx_type}' transactions (source balance logic mismatch).\")\n",
    "\n",
    "    if all_violations:\n",
    "        violations_df = pd.concat(all_violations)\n",
    "        return violations_df\n",
    "\n",
    "    print(\"All transactions follow source balance logic.\")\n",
    "    return pd.DataFrame()"
   ]
  },
  {
   "cell_type": "code",
   "execution_count": 12,
   "id": "dbea4277",
   "metadata": {},
   "outputs": [
    {
     "name": "stdout",
     "output_type": "stream",
     "text": [
      "1,102,074 invalid 'PAYMENT' transactions (source balance logic mismatch).\n",
      "507,545 invalid 'TRANSFER' transactions (source balance logic mismatch).\n",
      "11,795 invalid 'DEBIT' transactions (source balance logic mismatch).\n"
     ]
    }
   ],
   "source": [
    "violations = check_balance_logic(df)"
   ]
  },
  {
   "cell_type": "code",
   "execution_count": 13,
   "id": "41a6a92c",
   "metadata": {},
   "outputs": [
    {
     "data": {
      "application/vnd.microsoft.datawrangler.viewer.v0+json": {
       "columns": [
        {
         "name": "index",
         "rawType": "int64",
         "type": "integer"
        },
        {
         "name": "time_ind",
         "rawType": "int64",
         "type": "integer"
        },
        {
         "name": "transac_type",
         "rawType": "object",
         "type": "string"
        },
        {
         "name": "amount",
         "rawType": "float64",
         "type": "float"
        },
        {
         "name": "src_acc",
         "rawType": "object",
         "type": "string"
        },
        {
         "name": "src_bal",
         "rawType": "float64",
         "type": "float"
        },
        {
         "name": "src_new_bal",
         "rawType": "float64",
         "type": "float"
        },
        {
         "name": "dst_acc",
         "rawType": "object",
         "type": "string"
        },
        {
         "name": "dst_bal",
         "rawType": "float64",
         "type": "float"
        },
        {
         "name": "dst_new_bal",
         "rawType": "float64",
         "type": "float"
        },
        {
         "name": "is_fraud",
         "rawType": "int64",
         "type": "integer"
        },
        {
         "name": "is_flagged_fraud",
         "rawType": "int64",
         "type": "integer"
        },
        {
         "name": "expected_src_new_bal",
         "rawType": "float64",
         "type": "float"
        }
       ],
       "ref": "98bd6aef-a58d-45f6-8581-3bcdf98c54fc",
       "rows": [
        [
         "8",
         "1",
         "PAYMENT",
         "4024.36",
         "acc5428218",
         "2671.0",
         "0.0",
         "acc291243",
         "0.0",
         "0.0",
         "0",
         "0",
         "-1353.3600000000001"
        ],
        [
         "13",
         "1",
         "PAYMENT",
         "11633.76",
         "acc3180839",
         "10127.0",
         "0.0",
         "acc805084",
         "0.0",
         "0.0",
         "0",
         "0",
         "-1506.7600000000002"
        ],
        [
         "16",
         "1",
         "PAYMENT",
         "1563.82",
         "acc4301678",
         "450.0",
         "0.0",
         "acc667586",
         "0.0",
         "0.0",
         "0",
         "0",
         "-1113.82"
        ],
        [
         "25",
         "1",
         "PAYMENT",
         "6061.13",
         "acc5288285",
         "443.0",
         "0.0",
         "acc6255982",
         "0.0",
         "0.0",
         "0",
         "0",
         "-5618.13"
        ],
        [
         "28",
         "1",
         "PAYMENT",
         "8901.99",
         "acc8799771",
         "2958.91",
         "0.0",
         "acc1815446",
         "0.0",
         "0.0",
         "0",
         "0",
         "-5943.08"
        ]
       ],
       "shape": {
        "columns": 12,
        "rows": 5
       }
      },
      "text/html": [
       "<div>\n",
       "<style scoped>\n",
       "    .dataframe tbody tr th:only-of-type {\n",
       "        vertical-align: middle;\n",
       "    }\n",
       "\n",
       "    .dataframe tbody tr th {\n",
       "        vertical-align: top;\n",
       "    }\n",
       "\n",
       "    .dataframe thead th {\n",
       "        text-align: right;\n",
       "    }\n",
       "</style>\n",
       "<table border=\"1\" class=\"dataframe\">\n",
       "  <thead>\n",
       "    <tr style=\"text-align: right;\">\n",
       "      <th></th>\n",
       "      <th>time_ind</th>\n",
       "      <th>transac_type</th>\n",
       "      <th>amount</th>\n",
       "      <th>src_acc</th>\n",
       "      <th>src_bal</th>\n",
       "      <th>src_new_bal</th>\n",
       "      <th>dst_acc</th>\n",
       "      <th>dst_bal</th>\n",
       "      <th>dst_new_bal</th>\n",
       "      <th>is_fraud</th>\n",
       "      <th>is_flagged_fraud</th>\n",
       "      <th>expected_src_new_bal</th>\n",
       "    </tr>\n",
       "  </thead>\n",
       "  <tbody>\n",
       "    <tr>\n",
       "      <th>8</th>\n",
       "      <td>1</td>\n",
       "      <td>PAYMENT</td>\n",
       "      <td>4024.36</td>\n",
       "      <td>acc5428218</td>\n",
       "      <td>2671.00</td>\n",
       "      <td>0.0</td>\n",
       "      <td>acc291243</td>\n",
       "      <td>0.0</td>\n",
       "      <td>0.0</td>\n",
       "      <td>0</td>\n",
       "      <td>0</td>\n",
       "      <td>-1353.36</td>\n",
       "    </tr>\n",
       "    <tr>\n",
       "      <th>13</th>\n",
       "      <td>1</td>\n",
       "      <td>PAYMENT</td>\n",
       "      <td>11633.76</td>\n",
       "      <td>acc3180839</td>\n",
       "      <td>10127.00</td>\n",
       "      <td>0.0</td>\n",
       "      <td>acc805084</td>\n",
       "      <td>0.0</td>\n",
       "      <td>0.0</td>\n",
       "      <td>0</td>\n",
       "      <td>0</td>\n",
       "      <td>-1506.76</td>\n",
       "    </tr>\n",
       "    <tr>\n",
       "      <th>16</th>\n",
       "      <td>1</td>\n",
       "      <td>PAYMENT</td>\n",
       "      <td>1563.82</td>\n",
       "      <td>acc4301678</td>\n",
       "      <td>450.00</td>\n",
       "      <td>0.0</td>\n",
       "      <td>acc667586</td>\n",
       "      <td>0.0</td>\n",
       "      <td>0.0</td>\n",
       "      <td>0</td>\n",
       "      <td>0</td>\n",
       "      <td>-1113.82</td>\n",
       "    </tr>\n",
       "    <tr>\n",
       "      <th>25</th>\n",
       "      <td>1</td>\n",
       "      <td>PAYMENT</td>\n",
       "      <td>6061.13</td>\n",
       "      <td>acc5288285</td>\n",
       "      <td>443.00</td>\n",
       "      <td>0.0</td>\n",
       "      <td>acc6255982</td>\n",
       "      <td>0.0</td>\n",
       "      <td>0.0</td>\n",
       "      <td>0</td>\n",
       "      <td>0</td>\n",
       "      <td>-5618.13</td>\n",
       "    </tr>\n",
       "    <tr>\n",
       "      <th>28</th>\n",
       "      <td>1</td>\n",
       "      <td>PAYMENT</td>\n",
       "      <td>8901.99</td>\n",
       "      <td>acc8799771</td>\n",
       "      <td>2958.91</td>\n",
       "      <td>0.0</td>\n",
       "      <td>acc1815446</td>\n",
       "      <td>0.0</td>\n",
       "      <td>0.0</td>\n",
       "      <td>0</td>\n",
       "      <td>0</td>\n",
       "      <td>-5943.08</td>\n",
       "    </tr>\n",
       "  </tbody>\n",
       "</table>\n",
       "</div>"
      ],
      "text/plain": [
       "    time_ind transac_type    amount     src_acc   src_bal  src_new_bal  \\\n",
       "8          1      PAYMENT   4024.36  acc5428218   2671.00          0.0   \n",
       "13         1      PAYMENT  11633.76  acc3180839  10127.00          0.0   \n",
       "16         1      PAYMENT   1563.82  acc4301678    450.00          0.0   \n",
       "25         1      PAYMENT   6061.13  acc5288285    443.00          0.0   \n",
       "28         1      PAYMENT   8901.99  acc8799771   2958.91          0.0   \n",
       "\n",
       "       dst_acc  dst_bal  dst_new_bal  is_fraud  is_flagged_fraud  \\\n",
       "8    acc291243      0.0          0.0         0                 0   \n",
       "13   acc805084      0.0          0.0         0                 0   \n",
       "16   acc667586      0.0          0.0         0                 0   \n",
       "25  acc6255982      0.0          0.0         0                 0   \n",
       "28  acc1815446      0.0          0.0         0                 0   \n",
       "\n",
       "    expected_src_new_bal  \n",
       "8               -1353.36  \n",
       "13              -1506.76  \n",
       "16              -1113.82  \n",
       "25              -5618.13  \n",
       "28              -5943.08  "
      ]
     },
     "execution_count": 13,
     "metadata": {},
     "output_type": "execute_result"
    }
   ],
   "source": [
    "violations.head()"
   ]
  },
  {
   "cell_type": "code",
   "execution_count": 14,
   "id": "8fd17239",
   "metadata": {},
   "outputs": [
    {
     "data": {
      "application/vnd.microsoft.datawrangler.viewer.v0+json": {
       "columns": [
        {
         "name": "is_fraud",
         "rawType": "int64",
         "type": "integer"
        },
        {
         "name": "count",
         "rawType": "int64",
         "type": "integer"
        }
       ],
       "ref": "b61ad75b-b874-44d2-ac01-f7a3e035372f",
       "rows": [
        [
         "0",
         "1621393"
        ],
        [
         "1",
         "21"
        ]
       ],
       "shape": {
        "columns": 1,
        "rows": 2
       }
      },
      "text/plain": [
       "is_fraud\n",
       "0    1621393\n",
       "1         21\n",
       "Name: count, dtype: int64"
      ]
     },
     "execution_count": 14,
     "metadata": {},
     "output_type": "execute_result"
    }
   ],
   "source": [
    "violations['is_fraud'].value_counts()"
   ]
  },
  {
   "cell_type": "code",
   "execution_count": 15,
   "id": "c0720841",
   "metadata": {},
   "outputs": [
    {
     "name": "stdout",
     "output_type": "stream",
     "text": [
      "Fraud rate in violating transactions: 0.0013%\n",
      "Overall fraud rate: 0.1291%\n"
     ]
    },
    {
     "data": {
      "image/png": "[encoded data removed]",
      "text/plain": [
       "<Figure size 640x480 with 1 Axes>"
      ]
     },
     "metadata": {},
     "output_type": "display_data"
    }
   ],
   "source": [
    "# Step 1: Compute fraud rate in violation set\n",
    "violation_fraud_rate = violations['is_fraud'].mean()\n",
    "\n",
    "# Step 2: Compute fraud rate in the entire dataset\n",
    "overall_fraud_rate = df['is_fraud'].mean()\n",
    "\n",
    "# Step 3: Print results\n",
    "print(f\"Fraud rate in violating transactions: {violation_fraud_rate:.4%}\")\n",
    "print(f\"Overall fraud rate: {overall_fraud_rate:.4%}\")\n",
    "\n",
    "plt.bar([\"Overall\", \"Violations\"], [overall_fraud_rate, violation_fraud_rate], color=[\"gray\", \"red\"])\n",
    "plt.title(\"Fraud Rate: Overall vs Violating Transactions\")\n",
    "plt.ylabel(\"Fraud Rate\")\n",
    "plt.ylim(0, max(overall_fraud_rate, violation_fraud_rate) * 1.5)\n",
    "plt.show()\n"
   ]
  },
  {
   "cell_type": "code",
   "execution_count": 16,
   "id": "ca0bdf49",
   "metadata": {},
   "outputs": [
    {
     "name": "stdout",
     "output_type": "stream",
     "text": [
      "Sender balance mismatch: 78.61%\n",
      "Recipient balance mismatch (non-merchant): 40.03%\n"
     ]
    }
   ],
   "source": [
    "# Balance mismatch\n",
    "df['src_bal_diff'] = df['src_bal'] - df['amount']\n",
    "df['src_mismatch'] = ~np.isclose(df['src_new_bal'], df['src_bal_diff'])\n",
    "print(f\"Sender balance mismatch: {df['src_mismatch'].mean():.2%}\")\n",
    "\n",
    "# Create mask for non-merchant transactions\n",
    "non_merchant_mask = ~df['transac_type'].isin(['PAYMENT', 'DEBIT'])\n",
    "\n",
    "# Compute destination balance difference only for non-merchant rows\n",
    "df.loc[non_merchant_mask, 'dst_bal_diff'] = df.loc[non_merchant_mask, 'dst_bal'] + df.loc[non_merchant_mask, 'amount']\n",
    "\n",
    "# Compare with dst_new_bal to detect mismatch\n",
    "df.loc[non_merchant_mask, 'dst_mismatch'] = ~np.isclose(\n",
    "    df.loc[non_merchant_mask, 'dst_new_bal'],\n",
    "    df.loc[non_merchant_mask, 'dst_bal_diff']\n",
    ")\n",
    "\n",
    "# Report mismatch rate\n",
    "mismatch_rate = df.loc[non_merchant_mask, 'dst_mismatch'].mean()\n",
    "print(f\"Recipient balance mismatch (non-merchant): {mismatch_rate:.2%}\")\n"
   ]
  },
  {
   "cell_type": "markdown",
   "id": "24c41101",
   "metadata": {},
   "source": [
    "### 2.2. Verification of Rule-Based Fraud Flags\n",
    "\n",
    "The `is_flagged_fraud` column serves as a **rule-based indicator**, likely derived from a heuristic such as:\n",
    "\n",
    "- All transactions flagged (`is_flagged_fraud == 1`) have `amount > 200,000`\n",
    "- All flagged transactions are also confirmed frauds (`is_fraud == 1`)\n",
    "- However, **not all** true frauds (`is_fraud == 1`) are flagged — implying:\n",
    "  - Some fraudulent cases are missed by the rule\n",
    "  - The flag is selective and does not comprehensively detect fraud\n",
    "\n",
    "This validation step helps clarify the role of `is_flagged_fraud` in modeling, emphasizing the need for machine learning to detect the unflagged fraudulent behavior."
   ]
  },
  {
   "cell_type": "code",
   "execution_count": 17,
   "id": "69c88b63",
   "metadata": {},
   "outputs": [
    {
     "name": "stdout",
     "output_type": "stream",
     "text": [
      "There are total 16 transactions flagged as fraud attempts.\n",
      "Their transaction types are:\n",
      "  - TRANSFER: 16\n",
      "Out of these, 0 transactions have amount ≤ 200,000, which violates the rule logic.\n"
     ]
    }
   ],
   "source": [
    "# Transactions where is_flagged_fraud is True\n",
    "flagged = df[df['is_flagged_fraud'] == 1]\n",
    "flagged_types = flagged['transac_type'].value_counts().to_dict()\n",
    "\n",
    "# Check if any flagged transactions have amount <= 200,000\n",
    "violations = flagged[flagged['amount'] <= 200_000]\n",
    "violation_types = violations['transac_type'].value_counts().to_dict()\n",
    "\n",
    "# Summary output\n",
    "print(f\"There are total {len(flagged):,} transactions flagged as fraud attempts.\")\n",
    "print(\"Their transaction types are:\")\n",
    "for tx_type, count in flagged_types.items():\n",
    "    print(f\"  - {tx_type}: {count}\")\n",
    "\n",
    "print(f\"Out of these, {len(violations):,} transactions have amount ≤ 200,000, which violates the rule logic.\")\n"
   ]
  },
  {
   "cell_type": "markdown",
   "id": "063eb953",
   "metadata": {},
   "source": [
    "Proof that All flagged transactions are also labeled as fraud. But all frauds are not also labeled as flagged transactions"
   ]
  },
  {
   "cell_type": "code",
   "execution_count": 18,
   "id": "732b2ba6",
   "metadata": {},
   "outputs": [
    {
     "name": "stdout",
     "output_type": "stream",
     "text": [
      "Total is_flagged_fraud == 1: 16\n",
      "Violations where is_flagged_fraud == 1 but is_fraud != 1: 0\n",
      "All flagged transactions are also labeled as fraud (is_fraud == 1).\n"
     ]
    }
   ],
   "source": [
    "flagged = df[df['is_flagged_fraud'] == 1]\n",
    "violations_flagged = flagged[flagged['is_fraud'] != 1]\n",
    "\n",
    "print(f\"Total is_flagged_fraud == 1: {len(flagged):,}\")\n",
    "print(f\"Violations where is_flagged_fraud == 1 but is_fraud != 1: {len(violations_flagged):,}\")\n",
    "\n",
    "if len(violations_flagged) == 0:\n",
    "    print(\"All flagged transactions are also labeled as fraud (is_fraud == 1).\")\n",
    "else:\n",
    "    print(\"Some flagged transactions are not marked as fraud!\")\n"
   ]
  },
  {
   "cell_type": "code",
   "execution_count": 19,
   "id": "5eb903d6",
   "metadata": {},
   "outputs": [
    {
     "name": "stdout",
     "output_type": "stream",
     "text": [
      "Total is_fraud == 1: 8,213\n",
      "Fraudulent but not flagged: 8,197\n",
      "As expected, many fraudulent transactions are not flagged (rule doesn't catch all).\n"
     ]
    }
   ],
   "source": [
    "frauds = df[df['is_fraud'] == 1]\n",
    "unflagged_frauds = frauds[frauds['is_flagged_fraud'] == 0]\n",
    "\n",
    "print(f\"Total is_fraud == 1: {len(frauds):,}\")\n",
    "print(f\"Fraudulent but not flagged: {len(unflagged_frauds):,}\")\n",
    "\n",
    "if len(unflagged_frauds) > 0:\n",
    "    print(\"As expected, many fraudulent transactions are not flagged (rule doesn't catch all).\")\n",
    "else:\n",
    "    print(\"All fraudulent transactions are also flagged — unexpected if rule isn't comprehensive.\")\n"
   ]
  },
  {
   "cell_type": "markdown",
   "id": "1e96e7f2",
   "metadata": {},
   "source": [
    "# 3. Correlation and Fraudulent Transaction Pattern"
   ]
  },
  {
   "cell_type": "code",
   "execution_count": 20,
   "id": "4ed4cadd",
   "metadata": {},
   "outputs": [],
   "source": [
    "fraud_df = df[df['is_fraud'] == 1]"
   ]
  },
  {
   "cell_type": "code",
   "execution_count": 21,
   "id": "106995e0",
   "metadata": {},
   "outputs": [
    {
     "name": "stdout",
     "output_type": "stream",
     "text": [
      "Top fraudulent sources:\n",
      " src_acc\n",
      "acc1796908    1\n",
      "acc8843145    1\n",
      "acc3097499    1\n",
      "acc4279917    1\n",
      "acc2699164    1\n",
      "Name: count, dtype: int64\n",
      "Top fraudulent destination:\n",
      " dst_acc\n",
      "acc1531907    2\n",
      "acc4778201    2\n",
      "acc5597152    2\n",
      "acc4852313    2\n",
      "acc7548199    2\n",
      "Name: count, dtype: int64\n"
     ]
    }
   ],
   "source": [
    "# Most frequent fraudulent src_acc\n",
    "top_fraud_sources = fraud_df['src_acc'].value_counts().head(5)\n",
    "print(\"Top fraudulent sources:\\n\", top_fraud_sources)\n",
    "\n",
    "# Most frequent fraudulent dst_acc\n",
    "top_fraud_sources = fraud_df['dst_acc'].value_counts().head(5)\n",
    "print(\"Top fraudulent destination:\\n\", top_fraud_sources)\n"
   ]
  },
  {
   "cell_type": "code",
   "execution_count": 22,
   "id": "380fe82e",
   "metadata": {},
   "outputs": [
    {
     "name": "stdout",
     "output_type": "stream",
     "text": [
      "Unique src_acc: 6,353,307\n",
      "Unique dst_acc: 2,722,362\n"
     ]
    }
   ],
   "source": [
    "# How many unique src/dst accounts?\n",
    "print(f\"Unique src_acc: {df['src_acc'].nunique():,}\")\n",
    "print(f\"Unique dst_acc: {df['dst_acc'].nunique():,}\")"
   ]
  },
  {
   "cell_type": "code",
   "execution_count": 23,
   "id": "43b365fe",
   "metadata": {},
   "outputs": [
    {
     "data": {
      "image/png": "[encoded data removed]",
      "text/plain": [
       "<Figure size 1000x500 with 1 Axes>"
      ]
     },
     "metadata": {},
     "output_type": "display_data"
    }
   ],
   "source": [
    "# Plot histogram\n",
    "plt.figure(figsize=(10, 5))\n",
    "sns.histplot(data=fraud_df, x=\"amount\", bins=100, hue=\"transac_type\", log_scale=(True, False), element=\"step\", color=\"red\")\n",
    "plt.title(\"Transaction Amount Distribution (Fraud Only, Log Scale)\")\n",
    "plt.xlabel(\"Transaction Amount\")\n",
    "plt.ylabel(\"Count\")\n",
    "plt.tight_layout()\n",
    "plt.show()"
   ]
  },
  {
   "cell_type": "code",
   "execution_count": 24,
   "id": "3345c0d3",
   "metadata": {},
   "outputs": [
    {
     "data": {
      "image/png": "[encoded data removed]",
      "text/plain": [
       "<Figure size 1000x800 with 2 Axes>"
      ]
     },
     "metadata": {},
     "output_type": "display_data"
    }
   ],
   "source": [
    "numeric_df = df.select_dtypes(include=['float64', 'int64'])\n",
    "corr = numeric_df.corr()\n",
    "\n",
    "plt.figure(figsize=(10, 8))\n",
    "sns.heatmap(corr, annot=True, fmt=\".2f\", cmap=\"coolwarm\", square=True)\n",
    "plt.title(\"Correlation Heatmap\")\n",
    "plt.tight_layout()\n",
    "plt.show()\n"
   ]
  },
  {
   "cell_type": "code",
   "execution_count": 25,
   "id": "917ee0eb",
   "metadata": {},
   "outputs": [
    {
     "data": {
      "image/png": "[encoded data removed]",
      "text/plain": [
       "<Figure size 1200x600 with 1 Axes>"
      ]
     },
     "metadata": {},
     "output_type": "display_data"
    }
   ],
   "source": [
    "plt.figure(figsize=(12, 6))\n",
    "sns.boxplot(data=df, x=\"transac_type\", y=\"amount\", hue=\"is_fraud\", showfliers=False)\n",
    "plt.title(\"Transaction Amount by Type and Fraud Status\")\n",
    "plt.xlabel(\"Transaction Type\")\n",
    "plt.ylabel(\"Amount\")\n",
    "plt.tight_layout()\n",
    "plt.show()\n"
   ]
  }
 ],
 "metadata": {
  "kernelspec": {
   "display_name": ".venv",
   "language": "python",
   "name": "python3"
  },
  "language_info": {
   "codemirror_mode": {
    "name": "ipython",
    "version": 3
   },
   "file_extension": ".py",
   "mimetype": "text/x-python",
   "name": "python",
   "nbconvert_exporter": "python",
   "pygments_lexer": "ipython3",
   "version": "3.12.3"
  }
 },
 "nbformat": 4,
 "nbformat_minor": 5
}
